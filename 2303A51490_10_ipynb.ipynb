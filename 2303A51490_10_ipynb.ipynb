{
  "nbformat": 4,
  "nbformat_minor": 0,
  "metadata": {
    "colab": {
      "provenance": [],
      "include_colab_link": true
    },
    "kernelspec": {
      "name": "python3",
      "display_name": "Python 3"
    },
    "language_info": {
      "name": "python"
    }
  },
  "cells": [
    {
      "cell_type": "markdown",
      "metadata": {
        "id": "view-in-github",
        "colab_type": "text"
      },
      "source": [
        "<a href=\"https://colab.research.google.com/github/Srinivas1490/AIML-2025/blob/main/2303A51490_10_ipynb.ipynb\" target=\"_parent\"><img src=\"https://colab.research.google.com/assets/colab-badge.svg\" alt=\"Open In Colab\"/></a>"
      ]
    },
    {
      "cell_type": "code",
      "execution_count": 1,
      "metadata": {
        "id": "m1M4pJWEFEZ6"
      },
      "outputs": [],
      "source": [
        "import pandas as pd\n",
        "import numpy as np\n",
        "import matplotlib.pyplot as plt\n",
        "import seaborn as sns\n",
        "from sklearn.cluster import KMeans\n",
        "from sklearn.preprocessing import StandardScaler"
      ]
    },
    {
      "cell_type": "code",
      "source": [
        "data = pd.read_csv(\"https://drive.google.com/uc?id=1g9uBAJbMwt7rBXQcVn3vAQornMBjpdDe&export=download\", delimiter=\";\")\n",
        "data.columns\n",
        "data = data.dropna(axis=1, how=\"all\")"
      ],
      "metadata": {
        "id": "3liOjq9FFe6_"
      },
      "execution_count": 2,
      "outputs": []
    },
    {
      "cell_type": "code",
      "source": [
        "data.columns = [\n",
        "    \"Date\", \"Time\", \"CO(GT)\", \"PT08.S1(CO)\", \"NMHC(GT)\", \"C6H6(GT)\",\n",
        "    \"PT08.S2(NMHC)\", \"NOx(GT)\", \"PT08.S3(NOx)\", \"NO2(GT)\", \"PT08.S4(NO2)\",\n",
        "    \"PT08.S5(O3)\", \"Temperature\", \"RH\", \"AH\"\n",
        "]"
      ],
      "metadata": {
        "id": "XH2R3HxOHlR8"
      },
      "execution_count": 3,
      "outputs": []
    },
    {
      "cell_type": "code",
      "source": [
        "top_reasons = data[\"CO(GT)\"].value_counts().head(5)\n",
        "print(\"Top 5 reasons for air quality issues:\")\n",
        "print(top_reasons)"
      ],
      "metadata": {
        "colab": {
          "base_uri": "https://localhost:8080/"
        },
        "id": "Nu-xON01INeI",
        "outputId": "fea1fceb-2d79-4ed6-c2a7-86c090164628"
      },
      "execution_count": 4,
      "outputs": [
        {
          "output_type": "stream",
          "name": "stdout",
          "text": [
            "Top 5 reasons for air quality issues:\n",
            "CO(GT)\n",
            "-200    1592\n",
            "1,4      279\n",
            "1,6      275\n",
            "1,5      273\n",
            "1,1      262\n",
            "Name: count, dtype: int64\n"
          ]
        }
      ]
    },
    {
      "cell_type": "code",
      "source": [
        "data[\"Date\"] = pd.to_datetime(data[\"Date\"], format=\"%d/%m/%Y\")\n",
        "data[\"Day_of_Week\"] = data[\"Date\"].dt.day_name()\n",
        "day_with_issues = data[\"Day_of_Week\"].value_counts().idxmax()\n",
        "print(f\"Day of the week with most air quality issues: {day_with_issues}\")"
      ],
      "metadata": {
        "colab": {
          "base_uri": "https://localhost:8080/"
        },
        "id": "H-6MieJ7IWaq",
        "outputId": "05615608-76d6-4ee1-b96f-27fd4ff33f9c"
      },
      "execution_count": 5,
      "outputs": [
        {
          "output_type": "stream",
          "name": "stdout",
          "text": [
            "Day of the week with most air quality issues: Thursday\n"
          ]
        },
        {
          "output_type": "stream",
          "name": "stderr",
          "text": [
            "<ipython-input-5-426615fddc1a>:1: SettingWithCopyWarning: \n",
            "A value is trying to be set on a copy of a slice from a DataFrame.\n",
            "Try using .loc[row_indexer,col_indexer] = value instead\n",
            "\n",
            "See the caveats in the documentation: https://pandas.pydata.org/pandas-docs/stable/user_guide/indexing.html#returning-a-view-versus-a-copy\n",
            "  data[\"Date\"] = pd.to_datetime(data[\"Date\"], format=\"%d/%m/%Y\")\n",
            "<ipython-input-5-426615fddc1a>:2: SettingWithCopyWarning: \n",
            "A value is trying to be set on a copy of a slice from a DataFrame.\n",
            "Try using .loc[row_indexer,col_indexer] = value instead\n",
            "\n",
            "See the caveats in the documentation: https://pandas.pydata.org/pandas-docs/stable/user_guide/indexing.html#returning-a-view-versus-a-copy\n",
            "  data[\"Day_of_Week\"] = data[\"Date\"].dt.day_name()\n"
          ]
        }
      ]
    },
    {
      "cell_type": "code",
      "source": [
        "data[\"CO(GT)\"] = data[\"CO(GT)\"].astype(str).str.replace(\",\", \".\").replace(\"nan\", None).astype(float)\n",
        "data[\"Temperature\"] = data[\"Temperature\"].astype(str).str.replace(\",\", \".\").replace(\"nan\", None).astype(float)\n",
        "max_quality = data[\"CO(GT)\"].max()\n",
        "min_quality = data[\"CO(GT)\"].min()\n",
        "print(f\"Max air quality level: {max_quality}\")\n",
        "print(f\"Min air quality level: {min_quality}\")"
      ],
      "metadata": {
        "colab": {
          "base_uri": "https://localhost:8080/"
        },
        "id": "s4EVAPAuIZMm",
        "outputId": "7aff70ff-77a8-4f41-8688-09d73124a87a"
      },
      "execution_count": 7,
      "outputs": [
        {
          "output_type": "stream",
          "name": "stdout",
          "text": [
            "Max air quality level: 11.9\n",
            "Min air quality level: -200.0\n"
          ]
        }
      ]
    },
    {
      "cell_type": "code",
      "source": [
        "max_temp = data.loc[data[\"CO(GT)\"].idxmax(), \"Temperature\"]\n",
        "min_temp = data.loc[data[\"CO(GT)\"].idxmin(), \"Temperature\"]\n",
        "print(f\"Highest temperature of max air quality: {max_temp}\")\n",
        "print(f\"Lowest temperature of min air quality: {min_temp}\")"
      ],
      "metadata": {
        "colab": {
          "base_uri": "https://localhost:8080/"
        },
        "id": "DiBbCgZ1IbnW",
        "outputId": "4aa239e8-3345-4775-aa3f-d1b261a99b16"
      },
      "execution_count": 8,
      "outputs": [
        {
          "output_type": "stream",
          "name": "stdout",
          "text": [
            "Highest temperature of max air quality: 12.4\n",
            "Lowest temperature of min air quality: 10.1\n"
          ]
        }
      ]
    },
    {
      "cell_type": "code",
      "source": [
        "# Replace commas with dots and convert to float\n",
        "\n",
        "\n",
        "# Check for conversion success\n",
        "print(data[[\"CO(GT)\", \"Temperature\"]].head())\n",
        "\n",
        "# Select features for scaling\n",
        "features = data[[\"CO(GT)\", \"Temperature\"]]\n",
        "\n",
        "# Standardize the features\n",
        "from sklearn.preprocessing import StandardScaler\n",
        "\n",
        "scaler = StandardScaler()\n",
        "scaled_features = scaler.fit_transform(features)\n",
        "\n",
        "print(\"Scaled Features:\")\n",
        "print(scaled_features)\n"
      ],
      "metadata": {
        "colab": {
          "base_uri": "https://localhost:8080/"
        },
        "id": "DwpwV2xBIeIe",
        "outputId": "f677fe62-eda3-42c8-aeb2-24fca6c12896"
      },
      "execution_count": 9,
      "outputs": [
        {
          "output_type": "stream",
          "name": "stdout",
          "text": [
            "   CO(GT)  Temperature\n",
            "0     2.6         13.6\n",
            "1     2.0         13.3\n",
            "2     2.2         11.9\n",
            "3     2.2         11.0\n",
            "4     1.6         11.2\n",
            "Scaled Features:\n",
            "[[0.4739999  0.08846247]\n",
            " [0.46627322 0.08151824]\n",
            " [0.46884878 0.04911182]\n",
            " ...\n",
            " [       nan        nan]\n",
            " [       nan        nan]\n",
            " [       nan        nan]]\n"
          ]
        }
      ]
    },
    {
      "cell_type": "code",
      "source": [
        "data[\"CO(GT)\"] = data[\"CO(GT)\"].fillna(data[\"CO(GT)\"].mean())  # Replace NaNs with mean\n",
        "data[\"Temperature\"] = data[\"Temperature\"].fillna(data[\"Temperature\"].mean())  # Replace NaNs with mean\n",
        "\n",
        "# Scale the features again after handling NaNs\n",
        "features = data[[\"CO(GT)\", \"Temperature\"]]\n",
        "from sklearn.preprocessing import StandardScaler\n",
        "scaler = StandardScaler()\n",
        "scaled_features = scaler.fit_transform(features)\n",
        "\n",
        "# Apply KMeans clustering\n",
        "from sklearn.cluster import KMeans\n",
        "kmeans = KMeans(n_clusters=3, random_state=42)\n",
        "data[\"Cluster\"] = kmeans.fit_predict(scaled_features)\n"
      ],
      "metadata": {
        "id": "ZDS7aJOZIg7H"
      },
      "execution_count": 10,
      "outputs": []
    },
    {
      "cell_type": "code",
      "source": [
        "plt.figure(figsize=(10, 6))\n",
        "sns.scatterplot(\n",
        "    x=data[\"Temperature\"],\n",
        "    y=data[\"CO(GT)\"],\n",
        "    hue=data[\"Cluster\"],\n",
        "    palette=\"viridis\"\n",
        ")\n",
        "plt.title(\"Clustering Air Quality Levels\")\n",
        "plt.xlabel(\"Temperature\")\n",
        "plt.ylabel(\"CO (Air Quality Proxy)\")\n",
        "plt.legend(title=\"Cluster\")\n",
        "plt.show()"
      ],
      "metadata": {
        "colab": {
          "base_uri": "https://localhost:8080/",
          "height": 426
        },
        "id": "uy4WAvipImgH",
        "outputId": "addf4825-abde-41af-8007-c61c0197f95b"
      },
      "execution_count": 11,
      "outputs": [
        {
          "output_type": "display_data",
          "data": {
            "text/plain": [
              "<Figure size 1000x600 with 1 Axes>"
            ],
            "image/png": "[encoded data removed]"
          },
          "metadata": {}
        }
      ]
    }
  ]
}