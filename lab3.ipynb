{
  "nbformat": 4,
  "nbformat_minor": 0,
  "metadata": {
    "colab": {
      "provenance": [],
      "authorship_tag": "ABX9TyOCVnr7AbODNhcVJQrewiFm",
      "include_colab_link": true
    },
    "kernelspec": {
      "name": "python3",
      "display_name": "Python 3"
    },
    "language_info": {
      "name": "python"
    }
  },
  "cells": [
    {
      "cell_type": "markdown",
      "metadata": {
        "id": "view-in-github",
        "colab_type": "text"
      },
      "source": [
        "<a href=\"https://colab.research.google.com/github/Srinivas1490/AIML-2025/blob/main/lab3.ipynb\" target=\"_parent\"><img src=\"https://colab.research.google.com/assets/colab-badge.svg\" alt=\"Open In Colab\"/></a>"
      ]
    },
    {
      "cell_type": "code",
      "execution_count": null,
      "metadata": {
        "collapsed": true,
        "id": "LlORLwouLLy2"
      },
      "outputs": [],
      "source": [
        "from collections import namedtuple, Counter, defaultdict\n",
        "import random\n",
        "import math\n",
        "import functools\n",
        "cache = functools.lru_cache(10**6)\n",
        "class Game:\n",
        "  def actions(self, state):\n",
        "    raise NotImplementedError\n",
        "    def result(self,state,move):\n",
        "      raise NotImplementedError\n",
        "    def is terminal(self, state)\n",
        "      return not self.actions(state)\n",
        "    def utility(self, state,player):\n",
        "      raise NotImplementedError\n",
        "    def play_game(game,strategies:dict,verbose=False):\n",
        "      state=game.intial\n",
        "      while not game.is_terminal(state):\n",
        "        player = state.to_move\n",
        "        move = strategies[player] (game, state)\n",
        "        state = game.result(state, move)\n",
        "        if verbose:\n",
        "          print('player', player, 'move:', move)\n",
        "          print(state)\n",
        "      return_state\n"
      ]
    },
    {
      "cell_type": "markdown",
      "source": [],
      "metadata": {
        "id": "_lzcZ4mpUBEa"
      }
    },
    {
      "cell_type": "markdown",
      "source": [
        "def minimax_search(game, state):\n",
        "    ##Search"
      ],
      "metadata": {
        "id": "MUgiyt1tTnPo"
      }
    },
    {
      "cell_type": "code",
      "source": [
        "class game:\n",
        "  \"\"\"A game is similar to a problem, but it has a terminal a goal test, and a utility for each terminal state. To subclass this class and important 'actions', 'result', and 'utility'.\n",
        "  You will also need to set the .intial a\"\"\""
      ],
      "metadata": {
        "id": "ivWDoXJkOrYb"
      },
      "execution_count": null,
      "outputs": []
    }
  ]
}